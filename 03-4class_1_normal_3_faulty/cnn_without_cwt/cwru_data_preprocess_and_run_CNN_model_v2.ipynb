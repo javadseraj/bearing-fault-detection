{
  "nbformat": 4,
  "nbformat_minor": 0,
  "metadata": {
    "accelerator": "GPU",
    "colab": {
      "name": "02_cwru_data_preprocess_and_run_CNN_model.ipynb",
      "provenance": [],
      "collapsed_sections": []
    },
    "kernelspec": {
      "display_name": "Python 3",
      "language": "python",
      "name": "python3"
    },
    "language_info": {
      "codemirror_mode": {
        "name": "ipython",
        "version": 3
      },
      "file_extension": ".py",
      "mimetype": "text/x-python",
      "name": "python",
      "nbconvert_exporter": "python",
      "pygments_lexer": "ipython3",
      "version": "3.8.5"
    }
  },
  "cells": [
    {
      "cell_type": "code",
      "metadata": {
        "colab": {
          "base_uri": "https://localhost:8080/"
        },
        "id": "jLsYG_kJRtKh",
        "outputId": "297faac6-03b2-4687-aaf0-86ef4bc93381"
      },
      "source": [
        "!git clone https://github.com/javadseraj/bearing-fault-detection.git"
      ],
      "execution_count": 1,
      "outputs": [
        {
          "output_type": "stream",
          "text": [
            "Cloning into 'bearing-fault-detection'...\n",
            "remote: Enumerating objects: 18, done.\u001b[K\n",
            "remote: Counting objects: 100% (18/18), done.\u001b[K\n",
            "remote: Compressing objects: 100% (18/18), done.\u001b[K\n",
            "remote: Total 18 (delta 6), reused 3 (delta 0), pack-reused 0\u001b[K\n",
            "Unpacking objects: 100% (18/18), done.\n"
          ],
          "name": "stdout"
        }
      ]
    },
    {
      "cell_type": "code",
      "metadata": {
        "colab": {
          "base_uri": "https://localhost:8080/"
        },
        "id": "Cdph3dW9SFLw",
        "outputId": "c8c02cf5-fed8-4b3b-e431-c3942c7ac84b"
      },
      "source": [
        "! unzip /content/bearing-fault-detection/01-cwru-selected-data-3class-inner-outer-normal.zip"
      ],
      "execution_count": 2,
      "outputs": [
        {
          "output_type": "stream",
          "text": [
            "Archive:  /content/bearing-fault-detection/01-cwru-selected-data-3class-inner-outer-normal.zip\n",
            "  inflating: 01-cwru-selected-data-3class-inner-outer-normal/B007_B014_1_123.csv  \n",
            "  inflating: 01-cwru-selected-data-3class-inner-outer-normal/IR007_IR014_1_110.csv  \n",
            "  inflating: 01-cwru-selected-data-3class-inner-outer-normal/OR007_OR014_6_1_136.csv  \n"
          ],
          "name": "stdout"
        }
      ]
    },
    {
      "cell_type": "code",
      "metadata": {
        "id": "J5lvdRe6OTck"
      },
      "source": [
        "import tensorflow as tf\n",
        "import numpy as np\n",
        "import pandas as pd\n",
        "import pywt\n",
        "import glob"
      ],
      "execution_count": 3,
      "outputs": []
    },
    {
      "cell_type": "code",
      "metadata": {
        "colab": {
          "base_uri": "https://localhost:8080/"
        },
        "id": "DtnuL3CAOjUA",
        "outputId": "ab01ae67-d515-4575-da3f-931ed35da01c"
      },
      "source": [
        "files = glob.glob('/content/01-cwru-selected-data-3class-inner-outer-normal/*.csv')\n",
        "files"
      ],
      "execution_count": 4,
      "outputs": [
        {
          "output_type": "execute_result",
          "data": {
            "text/plain": [
              "['/content/01-cwru-selected-data-3class-inner-outer-normal/IR007_IR014_1_110.csv',\n",
              " '/content/01-cwru-selected-data-3class-inner-outer-normal/OR007_OR014_6_1_136.csv',\n",
              " '/content/01-cwru-selected-data-3class-inner-outer-normal/B007_B014_1_123.csv']"
            ]
          },
          "metadata": {
            "tags": []
          },
          "execution_count": 4
        }
      ]
    },
    {
      "cell_type": "code",
      "metadata": {
        "colab": {
          "base_uri": "https://localhost:8080/",
          "height": 404
        },
        "id": "bTl1KvhkwxE3",
        "outputId": "43227333-e427-410a-f9f3-3be7316b10b9"
      },
      "source": [
        "count = 0\n",
        "data = np.empty((460*2*3,32,32))\n",
        "data[:] = np.nan\n",
        "for file in files:\n",
        "    temp = pd.read_csv(file, header = None)\n",
        "    for j in range(460*2):\n",
        "        segment = temp[0][(j*1024):((j+1)*1024)].values\n",
        "        print(\"segment : \" , segment.shape)\n",
        "        data[count,:,:] = tf.reshape(tf.image.resize(segment.reshape((1,1024,1)),(32,32)),(32,32))\n",
        "        if (count % 100) == 0:\n",
        "            print(f\"{count} data points extracted\")\n",
        "        count = count + 1\n",
        "fault_types = ['Ball_007_Ball_014', 'IR_007_IR_014', 'OR_007_OR_014']\n",
        "labels = np.repeat(fault_types, 460*2)\n",
        "np.savez('CWRU_48k_load_1_CNN_raw_data_3class', data = data, labels = labels)"
      ],
      "execution_count": 82,
      "outputs": [
        {
          "output_type": "stream",
          "text": [
            "segment :  (1024,)\n"
          ],
          "name": "stdout"
        },
        {
          "output_type": "error",
          "ename": "ValueError",
          "evalue": "ignored",
          "traceback": [
            "\u001b[0;31m---------------------------------------------------------------------------\u001b[0m",
            "\u001b[0;31mValueError\u001b[0m                                Traceback (most recent call last)",
            "\u001b[0;32m<ipython-input-82-211af184f6b0>\u001b[0m in \u001b[0;36m<module>\u001b[0;34m()\u001b[0m\n\u001b[1;32m      7\u001b[0m         \u001b[0msegment\u001b[0m \u001b[0;34m=\u001b[0m \u001b[0mtemp\u001b[0m\u001b[0;34m[\u001b[0m\u001b[0;36m0\u001b[0m\u001b[0;34m]\u001b[0m\u001b[0;34m[\u001b[0m\u001b[0;34m(\u001b[0m\u001b[0mj\u001b[0m\u001b[0;34m*\u001b[0m\u001b[0;36m1024\u001b[0m\u001b[0;34m)\u001b[0m\u001b[0;34m:\u001b[0m\u001b[0;34m(\u001b[0m\u001b[0;34m(\u001b[0m\u001b[0mj\u001b[0m\u001b[0;34m+\u001b[0m\u001b[0;36m1\u001b[0m\u001b[0;34m)\u001b[0m\u001b[0;34m*\u001b[0m\u001b[0;36m1024\u001b[0m\u001b[0;34m)\u001b[0m\u001b[0;34m]\u001b[0m\u001b[0;34m.\u001b[0m\u001b[0mvalues\u001b[0m\u001b[0;34m\u001b[0m\u001b[0;34m\u001b[0m\u001b[0m\n\u001b[1;32m      8\u001b[0m         \u001b[0mprint\u001b[0m\u001b[0;34m(\u001b[0m\u001b[0;34m\"segment : \"\u001b[0m \u001b[0;34m,\u001b[0m \u001b[0msegment\u001b[0m\u001b[0;34m.\u001b[0m\u001b[0mshape\u001b[0m\u001b[0;34m)\u001b[0m\u001b[0;34m\u001b[0m\u001b[0;34m\u001b[0m\u001b[0m\n\u001b[0;32m----> 9\u001b[0;31m         \u001b[0mdata\u001b[0m\u001b[0;34m[\u001b[0m\u001b[0mcount\u001b[0m\u001b[0;34m,\u001b[0m\u001b[0;34m:\u001b[0m\u001b[0;34m,\u001b[0m\u001b[0;34m:\u001b[0m\u001b[0;34m]\u001b[0m \u001b[0;34m=\u001b[0m \u001b[0mtf\u001b[0m\u001b[0;34m.\u001b[0m\u001b[0mreshape\u001b[0m\u001b[0;34m(\u001b[0m\u001b[0mtf\u001b[0m\u001b[0;34m.\u001b[0m\u001b[0mimage\u001b[0m\u001b[0;34m.\u001b[0m\u001b[0mresize\u001b[0m\u001b[0;34m(\u001b[0m\u001b[0msegment\u001b[0m\u001b[0;34m.\u001b[0m\u001b[0mreshape\u001b[0m\u001b[0;34m(\u001b[0m\u001b[0;34m(\u001b[0m\u001b[0;36m1024\u001b[0m\u001b[0;34m)\u001b[0m\u001b[0;34m)\u001b[0m\u001b[0;34m,\u001b[0m\u001b[0;34m(\u001b[0m\u001b[0;36m32\u001b[0m\u001b[0;34m,\u001b[0m\u001b[0;36m32\u001b[0m\u001b[0;34m)\u001b[0m\u001b[0;34m)\u001b[0m\u001b[0;34m,\u001b[0m\u001b[0;34m(\u001b[0m\u001b[0;36m32\u001b[0m\u001b[0;34m,\u001b[0m\u001b[0;36m32\u001b[0m\u001b[0;34m)\u001b[0m\u001b[0;34m)\u001b[0m\u001b[0;34m\u001b[0m\u001b[0;34m\u001b[0m\u001b[0m\n\u001b[0m\u001b[1;32m     10\u001b[0m         \u001b[0;32mif\u001b[0m \u001b[0;34m(\u001b[0m\u001b[0mcount\u001b[0m \u001b[0;34m%\u001b[0m \u001b[0;36m100\u001b[0m\u001b[0;34m)\u001b[0m \u001b[0;34m==\u001b[0m \u001b[0;36m0\u001b[0m\u001b[0;34m:\u001b[0m\u001b[0;34m\u001b[0m\u001b[0;34m\u001b[0m\u001b[0m\n\u001b[1;32m     11\u001b[0m             \u001b[0mprint\u001b[0m\u001b[0;34m(\u001b[0m\u001b[0;34mf\"{count} data points extracted\"\u001b[0m\u001b[0;34m)\u001b[0m\u001b[0;34m\u001b[0m\u001b[0;34m\u001b[0m\u001b[0m\n",
            "\u001b[0;32m/usr/local/lib/python3.7/dist-packages/tensorflow/python/util/dispatch.py\u001b[0m in \u001b[0;36mwrapper\u001b[0;34m(*args, **kwargs)\u001b[0m\n\u001b[1;32m    204\u001b[0m     \u001b[0;34m\"\"\"Call target, and fall back on dispatchers if there is a TypeError.\"\"\"\u001b[0m\u001b[0;34m\u001b[0m\u001b[0;34m\u001b[0m\u001b[0m\n\u001b[1;32m    205\u001b[0m     \u001b[0;32mtry\u001b[0m\u001b[0;34m:\u001b[0m\u001b[0;34m\u001b[0m\u001b[0;34m\u001b[0m\u001b[0m\n\u001b[0;32m--> 206\u001b[0;31m       \u001b[0;32mreturn\u001b[0m \u001b[0mtarget\u001b[0m\u001b[0;34m(\u001b[0m\u001b[0;34m*\u001b[0m\u001b[0margs\u001b[0m\u001b[0;34m,\u001b[0m \u001b[0;34m**\u001b[0m\u001b[0mkwargs\u001b[0m\u001b[0;34m)\u001b[0m\u001b[0;34m\u001b[0m\u001b[0;34m\u001b[0m\u001b[0m\n\u001b[0m\u001b[1;32m    207\u001b[0m     \u001b[0;32mexcept\u001b[0m \u001b[0;34m(\u001b[0m\u001b[0mTypeError\u001b[0m\u001b[0;34m,\u001b[0m \u001b[0mValueError\u001b[0m\u001b[0;34m)\u001b[0m\u001b[0;34m:\u001b[0m\u001b[0;34m\u001b[0m\u001b[0;34m\u001b[0m\u001b[0m\n\u001b[1;32m    208\u001b[0m       \u001b[0;31m# Note: convert_to_eager_tensor currently raises a ValueError, not a\u001b[0m\u001b[0;34m\u001b[0m\u001b[0;34m\u001b[0m\u001b[0;34m\u001b[0m\u001b[0m\n",
            "\u001b[0;32m/usr/local/lib/python3.7/dist-packages/tensorflow/python/ops/image_ops_impl.py\u001b[0m in \u001b[0;36mresize_images_v2\u001b[0;34m(images, size, method, preserve_aspect_ratio, antialias, name)\u001b[0m\n\u001b[1;32m   1721\u001b[0m       \u001b[0mpreserve_aspect_ratio\u001b[0m\u001b[0;34m=\u001b[0m\u001b[0mpreserve_aspect_ratio\u001b[0m\u001b[0;34m,\u001b[0m\u001b[0;34m\u001b[0m\u001b[0;34m\u001b[0m\u001b[0m\n\u001b[1;32m   1722\u001b[0m       \u001b[0mname\u001b[0m\u001b[0;34m=\u001b[0m\u001b[0mname\u001b[0m\u001b[0;34m,\u001b[0m\u001b[0;34m\u001b[0m\u001b[0;34m\u001b[0m\u001b[0m\n\u001b[0;32m-> 1723\u001b[0;31m       skip_resize_if_same=False)\n\u001b[0m\u001b[1;32m   1724\u001b[0m \u001b[0;34m\u001b[0m\u001b[0m\n\u001b[1;32m   1725\u001b[0m \u001b[0;34m\u001b[0m\u001b[0m\n",
            "\u001b[0;32m/usr/local/lib/python3.7/dist-packages/tensorflow/python/ops/image_ops_impl.py\u001b[0m in \u001b[0;36m_resize_images_common\u001b[0;34m(images, resizer_fn, size, preserve_aspect_ratio, name, skip_resize_if_same)\u001b[0m\n\u001b[1;32m   1394\u001b[0m       \u001b[0mimages\u001b[0m \u001b[0;34m=\u001b[0m \u001b[0marray_ops\u001b[0m\u001b[0;34m.\u001b[0m\u001b[0mexpand_dims\u001b[0m\u001b[0;34m(\u001b[0m\u001b[0mimages\u001b[0m\u001b[0;34m,\u001b[0m \u001b[0;36m0\u001b[0m\u001b[0;34m)\u001b[0m\u001b[0;34m\u001b[0m\u001b[0;34m\u001b[0m\u001b[0m\n\u001b[1;32m   1395\u001b[0m     \u001b[0;32melif\u001b[0m \u001b[0mimages\u001b[0m\u001b[0;34m.\u001b[0m\u001b[0mget_shape\u001b[0m\u001b[0;34m(\u001b[0m\u001b[0;34m)\u001b[0m\u001b[0;34m.\u001b[0m\u001b[0mndims\u001b[0m \u001b[0;34m!=\u001b[0m \u001b[0;36m4\u001b[0m\u001b[0;34m:\u001b[0m\u001b[0;34m\u001b[0m\u001b[0;34m\u001b[0m\u001b[0m\n\u001b[0;32m-> 1396\u001b[0;31m       \u001b[0;32mraise\u001b[0m \u001b[0mValueError\u001b[0m\u001b[0;34m(\u001b[0m\u001b[0;34m'\\'images\\' must have either 3 or 4 dimensions.'\u001b[0m\u001b[0;34m)\u001b[0m\u001b[0;34m\u001b[0m\u001b[0;34m\u001b[0m\u001b[0m\n\u001b[0m\u001b[1;32m   1397\u001b[0m \u001b[0;34m\u001b[0m\u001b[0m\n\u001b[1;32m   1398\u001b[0m     \u001b[0m_\u001b[0m\u001b[0;34m,\u001b[0m \u001b[0mheight\u001b[0m\u001b[0;34m,\u001b[0m \u001b[0mwidth\u001b[0m\u001b[0;34m,\u001b[0m \u001b[0m_\u001b[0m \u001b[0;34m=\u001b[0m \u001b[0mimages\u001b[0m\u001b[0;34m.\u001b[0m\u001b[0mget_shape\u001b[0m\u001b[0;34m(\u001b[0m\u001b[0;34m)\u001b[0m\u001b[0;34m.\u001b[0m\u001b[0mas_list\u001b[0m\u001b[0;34m(\u001b[0m\u001b[0;34m)\u001b[0m\u001b[0;34m\u001b[0m\u001b[0;34m\u001b[0m\u001b[0m\n",
            "\u001b[0;31mValueError\u001b[0m: 'images' must have either 3 or 4 dimensions."
          ]
        }
      ]
    },
    {
      "cell_type": "markdown",
      "metadata": {
        "id": "tyt5C5UMROz2"
      },
      "source": [
        "try to reshape data\n"
      ]
    },
    {
      "cell_type": "code",
      "metadata": {
        "colab": {
          "base_uri": "https://localhost:8080/"
        },
        "id": "qD2UGtifRJ88",
        "outputId": "02a773b9-a690-4529-fbab-a7a7f397ffe2"
      },
      "source": [
        "count = 0\n",
        "data = np.empty((460*2*3,32,32))\n",
        "data[:] = np.nan\n",
        "one_split_data = np.empty((3,460*2*32*32))\n",
        "i = 0\n",
        "for file in files:\n",
        "    temp = pd.read_csv(file, header = None)\n",
        "    print(temp)\n",
        "    print(len(temp) , type(temp))\n",
        "    # tp = temp.reshape((len(temp),1))\n",
        "    one_split_data[i,:] = temp[0][0:460*2*32*32]\n",
        "    print(\"oop!\")\n",
        "    i += 1\n",
        "               \n",
        "fault_types = ['Ball_007_Ball_014', 'IR_007_IR_014', 'OR_007_OR_014']\n",
        "labels = np.repeat(fault_types, 460*2)\n",
        "np.savez('CWRU_48k_load_1_CNN_raw_data_3class', data = data, labels = labels)"
      ],
      "execution_count": 83,
      "outputs": [
        {
          "output_type": "stream",
          "text": [
            "               0\n",
            "0       0.032127\n",
            "1       0.078231\n",
            "2       0.161468\n",
            "3       0.250547\n",
            "4       0.315426\n",
            "...          ...\n",
            "975344  0.191092\n",
            "975345  0.324397\n",
            "975346  0.413684\n",
            "975347  0.462709\n",
            "975348  0.453113\n",
            "\n",
            "[975349 rows x 1 columns]\n",
            "975349 <class 'pandas.core.frame.DataFrame'>\n",
            "oop!\n",
            "               0\n",
            "0       0.084719\n",
            "1       0.694860\n",
            "2       1.159769\n",
            "3       1.397232\n",
            "4       1.413508\n",
            "...          ...\n",
            "971282  0.092208\n",
            "971283  0.102639\n",
            "971284  0.095546\n",
            "971285  0.084489\n",
            "971286  0.075102\n",
            "\n",
            "[971287 rows x 1 columns]\n",
            "971287 <class 'pandas.core.frame.DataFrame'>\n",
            "oop!\n",
            "               0\n",
            "0      -0.041097\n",
            "1      -0.046104\n",
            "2      -0.028372\n",
            "3       0.001252\n",
            "4       0.033796\n",
            "...          ...\n",
            "973603 -0.095546\n",
            "973604 -0.084489\n",
            "973605 -0.068843\n",
            "973606 -0.049025\n",
            "973607 -0.016481\n",
            "\n",
            "[973608 rows x 1 columns]\n",
            "973608 <class 'pandas.core.frame.DataFrame'>\n",
            "oop!\n"
          ],
          "name": "stdout"
        }
      ]
    },
    {
      "cell_type": "code",
      "metadata": {
        "id": "e8huZnYoYyfI"
      },
      "source": [
        ""
      ],
      "execution_count": 83,
      "outputs": []
    },
    {
      "cell_type": "code",
      "metadata": {
        "colab": {
          "base_uri": "https://localhost:8080/"
        },
        "id": "WwUVHkOASRYp",
        "outputId": "64d9591c-ab7c-4623-e51c-fac91767087e"
      },
      "source": [
        "one_split_data[:, 1].size"
      ],
      "execution_count": 102,
      "outputs": [
        {
          "output_type": "execute_result",
          "data": {
            "text/plain": [
              "3"
            ]
          },
          "metadata": {
            "tags": []
          },
          "execution_count": 102
        }
      ]
    },
    {
      "cell_type": "code",
      "metadata": {
        "colab": {
          "base_uri": "https://localhost:8080/",
          "height": 246
        },
        "id": "GvITouqJY98a",
        "outputId": "5a5310f1-e389-4165-8bbf-9d831cfb561b"
      },
      "source": [
        "# my_data = np.ndarray((460*2*3, 32, 32))\n",
        "# my_data = np.nan\n",
        "# count = 0\n",
        "# for i in range(one_split_data[:,1].size):\n",
        "#     seg = one_split_data[i].reshape((one_split_data[0].size//1024,32,32))\n",
        "#     print(type(seg[0]))\n",
        "#     for j in range(460*3*2):\n",
        "#         a = int(j*count)\n",
        "#         my_data[j*count, :, :] =(seg[j])\n",
        "#     print(my_data.shape)\n",
        "#     count = count+1\n",
        "\n",
        "# fault_types = ['Ball_007_Ball_014', 'IR_007_IR_014', 'OR_007_OR_014']\n",
        "# labels = np.repeat(fault_types, 460*2)\n",
        "# np.savez('CWRU_48k_load_1_CNN_raw_data_3class', data = data, labels = labels)"
      ],
      "execution_count": 126,
      "outputs": [
        {
          "output_type": "stream",
          "text": [
            "<class 'numpy.ndarray'>\n"
          ],
          "name": "stdout"
        },
        {
          "output_type": "error",
          "ename": "TypeError",
          "evalue": "ignored",
          "traceback": [
            "\u001b[0;31m---------------------------------------------------------------------------\u001b[0m",
            "\u001b[0;31mTypeError\u001b[0m                                 Traceback (most recent call last)",
            "\u001b[0;32m<ipython-input-126-982f96d6d1ba>\u001b[0m in \u001b[0;36m<module>\u001b[0;34m()\u001b[0m\n\u001b[1;32m      7\u001b[0m     \u001b[0;32mfor\u001b[0m \u001b[0mj\u001b[0m \u001b[0;32min\u001b[0m \u001b[0mrange\u001b[0m\u001b[0;34m(\u001b[0m\u001b[0;36m460\u001b[0m\u001b[0;34m*\u001b[0m\u001b[0;36m3\u001b[0m\u001b[0;34m*\u001b[0m\u001b[0;36m2\u001b[0m\u001b[0;34m)\u001b[0m\u001b[0;34m:\u001b[0m\u001b[0;34m\u001b[0m\u001b[0;34m\u001b[0m\u001b[0m\n\u001b[1;32m      8\u001b[0m         \u001b[0ma\u001b[0m \u001b[0;34m=\u001b[0m \u001b[0mint\u001b[0m\u001b[0;34m(\u001b[0m\u001b[0mj\u001b[0m\u001b[0;34m*\u001b[0m\u001b[0mcount\u001b[0m\u001b[0;34m)\u001b[0m\u001b[0;34m\u001b[0m\u001b[0;34m\u001b[0m\u001b[0m\n\u001b[0;32m----> 9\u001b[0;31m         \u001b[0mmy_data\u001b[0m\u001b[0;34m[\u001b[0m\u001b[0mj\u001b[0m\u001b[0;34m*\u001b[0m\u001b[0mcount\u001b[0m\u001b[0;34m,\u001b[0m \u001b[0;34m:\u001b[0m\u001b[0;34m,\u001b[0m \u001b[0;34m:\u001b[0m\u001b[0;34m]\u001b[0m \u001b[0;34m=\u001b[0m\u001b[0;34m(\u001b[0m\u001b[0mseg\u001b[0m\u001b[0;34m[\u001b[0m\u001b[0mj\u001b[0m\u001b[0;34m]\u001b[0m\u001b[0;34m)\u001b[0m\u001b[0;34m\u001b[0m\u001b[0;34m\u001b[0m\u001b[0m\n\u001b[0m\u001b[1;32m     10\u001b[0m     \u001b[0mprint\u001b[0m\u001b[0;34m(\u001b[0m\u001b[0mmy_data\u001b[0m\u001b[0;34m.\u001b[0m\u001b[0mshape\u001b[0m\u001b[0;34m)\u001b[0m\u001b[0;34m\u001b[0m\u001b[0;34m\u001b[0m\u001b[0m\n\u001b[1;32m     11\u001b[0m     \u001b[0mcount\u001b[0m \u001b[0;34m=\u001b[0m \u001b[0mcount\u001b[0m\u001b[0;34m+\u001b[0m\u001b[0;36m1\u001b[0m\u001b[0;34m\u001b[0m\u001b[0;34m\u001b[0m\u001b[0m\n",
            "\u001b[0;31mTypeError\u001b[0m: 'float' object does not support item assignment"
          ]
        }
      ]
    },
    {
      "cell_type": "code",
      "metadata": {
        "id": "nv8cJTxGt1xm"
      },
      "source": [
        "split_0= one_split_data[0].reshape((one_split_data[0].size//1024,32,32))\n",
        "split_1 = one_split_data[1].reshape((one_split_data[1].size//1024,32,32))\n",
        "split_2 = one_split_data[1].reshape((one_split_data[2].size//1024,32,32))\n",
        "\n",
        "all_my_data = np.concatenate((split_0, split_1, split_2), axis = 0)"
      ],
      "execution_count": 133,
      "outputs": []
    },
    {
      "cell_type": "code",
      "metadata": {
        "colab": {
          "base_uri": "https://localhost:8080/"
        },
        "id": "uHlH7vO-u5qB",
        "outputId": "c7b5777f-41f7-47c1-bdfe-1c520abc4fde"
      },
      "source": [
        "all_my_data.shape"
      ],
      "execution_count": 134,
      "outputs": [
        {
          "output_type": "execute_result",
          "data": {
            "text/plain": [
              "(2760, 32, 32)"
            ]
          },
          "metadata": {
            "tags": []
          },
          "execution_count": 134
        }
      ]
    },
    {
      "cell_type": "code",
      "metadata": {
        "id": "oJ3S9BWBvyEw"
      },
      "source": [
        "fault_types = ['Ball_007_Ball_014', 'IR_007_IR_014', 'OR_007_OR_014']\n",
        "labels = np.repeat(fault_types, 460*2)\n",
        "np.savez('CWRU_48k_load_1_CNN_raw_data_3class_v2', data = all_my_data, labels = labels)"
      ],
      "execution_count": 144,
      "outputs": []
    },
    {
      "cell_type": "code",
      "metadata": {
        "colab": {
          "base_uri": "https://localhost:8080/",
          "height": 265
        },
        "id": "u4rQ-IQpbFZh",
        "outputId": "62384822-56b7-496c-9d70-9364b4bdb825"
      },
      "source": [
        "import matplotlib.pyplot as plt\n",
        "#plt.plot(split_2[0][:][:])\n",
        "plt.plot(all_my_data[920][:][:])\n",
        "plt.ylabel('some numbers')\n",
        "plt.show()"
      ],
      "execution_count": 141,
      "outputs": [
        {
          "output_type": "display_data",
          "data": {
            "image/png": "[encoded data removed]",
            "text/plain": [
              "<Figure size 432x288 with 1 Axes>"
            ]
          },
          "metadata": {
            "tags": [],
            "needs_background": "light"
          }
        }
      ]
    },
    {
      "cell_type": "code",
      "metadata": {
        "id": "jZqWPCyxvrTP"
      },
      "source": [
        ""
      ],
      "execution_count": null,
      "outputs": []
    },
    {
      "cell_type": "code",
      "metadata": {
        "colab": {
          "base_uri": "https://localhost:8080/",
          "height": 402
        },
        "id": "jCAfhdPAWdBN",
        "outputId": "19bb9c1d-1ddf-4d25-ec6c-70e4fff3b93b"
      },
      "source": [
        "temp"
      ],
      "execution_count": 52,
      "outputs": [
        {
          "output_type": "execute_result",
          "data": {
            "text/html": [
              "<div>\n",
              "<style scoped>\n",
              "    .dataframe tbody tr th:only-of-type {\n",
              "        vertical-align: middle;\n",
              "    }\n",
              "\n",
              "    .dataframe tbody tr th {\n",
              "        vertical-align: top;\n",
              "    }\n",
              "\n",
              "    .dataframe thead th {\n",
              "        text-align: right;\n",
              "    }\n",
              "</style>\n",
              "<table border=\"1\" class=\"dataframe\">\n",
              "  <thead>\n",
              "    <tr style=\"text-align: right;\">\n",
              "      <th></th>\n",
              "      <th>0</th>\n",
              "    </tr>\n",
              "  </thead>\n",
              "  <tbody>\n",
              "    <tr>\n",
              "      <th>0</th>\n",
              "      <td>-0.041097</td>\n",
              "    </tr>\n",
              "    <tr>\n",
              "      <th>1</th>\n",
              "      <td>-0.046104</td>\n",
              "    </tr>\n",
              "    <tr>\n",
              "      <th>2</th>\n",
              "      <td>-0.028372</td>\n",
              "    </tr>\n",
              "    <tr>\n",
              "      <th>3</th>\n",
              "      <td>0.001252</td>\n",
              "    </tr>\n",
              "    <tr>\n",
              "      <th>4</th>\n",
              "      <td>0.033796</td>\n",
              "    </tr>\n",
              "    <tr>\n",
              "      <th>...</th>\n",
              "      <td>...</td>\n",
              "    </tr>\n",
              "    <tr>\n",
              "      <th>973603</th>\n",
              "      <td>-0.095546</td>\n",
              "    </tr>\n",
              "    <tr>\n",
              "      <th>973604</th>\n",
              "      <td>-0.084489</td>\n",
              "    </tr>\n",
              "    <tr>\n",
              "      <th>973605</th>\n",
              "      <td>-0.068843</td>\n",
              "    </tr>\n",
              "    <tr>\n",
              "      <th>973606</th>\n",
              "      <td>-0.049025</td>\n",
              "    </tr>\n",
              "    <tr>\n",
              "      <th>973607</th>\n",
              "      <td>-0.016481</td>\n",
              "    </tr>\n",
              "  </tbody>\n",
              "</table>\n",
              "<p>973608 rows × 1 columns</p>\n",
              "</div>"
            ],
            "text/plain": [
              "               0\n",
              "0      -0.041097\n",
              "1      -0.046104\n",
              "2      -0.028372\n",
              "3       0.001252\n",
              "4       0.033796\n",
              "...          ...\n",
              "973603 -0.095546\n",
              "973604 -0.084489\n",
              "973605 -0.068843\n",
              "973606 -0.049025\n",
              "973607 -0.016481\n",
              "\n",
              "[973608 rows x 1 columns]"
            ]
          },
          "metadata": {
            "tags": []
          },
          "execution_count": 52
        }
      ]
    },
    {
      "cell_type": "code",
      "metadata": {
        "colab": {
          "base_uri": "https://localhost:8080/"
        },
        "id": "UVdqPuik0Zi4",
        "outputId": "7a33f1ca-f8e6-4517-dada-fa51e51109de"
      },
      "source": [
        "data.shape"
      ],
      "execution_count": 46,
      "outputs": [
        {
          "output_type": "execute_result",
          "data": {
            "text/plain": [
              "(2760, 32, 32)"
            ]
          },
          "metadata": {
            "tags": []
          },
          "execution_count": 46
        }
      ]
    },
    {
      "cell_type": "code",
      "metadata": {
        "colab": {
          "base_uri": "https://localhost:8080/"
        },
        "id": "t4y9wS1vWFaC",
        "outputId": "139e1101-e314-440d-fb83-4da1c972596d"
      },
      "source": [
        "data"
      ],
      "execution_count": 47,
      "outputs": [
        {
          "output_type": "execute_result",
          "data": {
            "text/plain": [
              "array([[[nan, nan, nan, ..., nan, nan, nan],\n",
              "        [nan, nan, nan, ..., nan, nan, nan],\n",
              "        [nan, nan, nan, ..., nan, nan, nan],\n",
              "        ...,\n",
              "        [nan, nan, nan, ..., nan, nan, nan],\n",
              "        [nan, nan, nan, ..., nan, nan, nan],\n",
              "        [nan, nan, nan, ..., nan, nan, nan]],\n",
              "\n",
              "       [[nan, nan, nan, ..., nan, nan, nan],\n",
              "        [nan, nan, nan, ..., nan, nan, nan],\n",
              "        [nan, nan, nan, ..., nan, nan, nan],\n",
              "        ...,\n",
              "        [nan, nan, nan, ..., nan, nan, nan],\n",
              "        [nan, nan, nan, ..., nan, nan, nan],\n",
              "        [nan, nan, nan, ..., nan, nan, nan]],\n",
              "\n",
              "       [[nan, nan, nan, ..., nan, nan, nan],\n",
              "        [nan, nan, nan, ..., nan, nan, nan],\n",
              "        [nan, nan, nan, ..., nan, nan, nan],\n",
              "        ...,\n",
              "        [nan, nan, nan, ..., nan, nan, nan],\n",
              "        [nan, nan, nan, ..., nan, nan, nan],\n",
              "        [nan, nan, nan, ..., nan, nan, nan]],\n",
              "\n",
              "       ...,\n",
              "\n",
              "       [[nan, nan, nan, ..., nan, nan, nan],\n",
              "        [nan, nan, nan, ..., nan, nan, nan],\n",
              "        [nan, nan, nan, ..., nan, nan, nan],\n",
              "        ...,\n",
              "        [nan, nan, nan, ..., nan, nan, nan],\n",
              "        [nan, nan, nan, ..., nan, nan, nan],\n",
              "        [nan, nan, nan, ..., nan, nan, nan]],\n",
              "\n",
              "       [[nan, nan, nan, ..., nan, nan, nan],\n",
              "        [nan, nan, nan, ..., nan, nan, nan],\n",
              "        [nan, nan, nan, ..., nan, nan, nan],\n",
              "        ...,\n",
              "        [nan, nan, nan, ..., nan, nan, nan],\n",
              "        [nan, nan, nan, ..., nan, nan, nan],\n",
              "        [nan, nan, nan, ..., nan, nan, nan]],\n",
              "\n",
              "       [[nan, nan, nan, ..., nan, nan, nan],\n",
              "        [nan, nan, nan, ..., nan, nan, nan],\n",
              "        [nan, nan, nan, ..., nan, nan, nan],\n",
              "        ...,\n",
              "        [nan, nan, nan, ..., nan, nan, nan],\n",
              "        [nan, nan, nan, ..., nan, nan, nan],\n",
              "        [nan, nan, nan, ..., nan, nan, nan]]])"
            ]
          },
          "metadata": {
            "tags": []
          },
          "execution_count": 47
        }
      ]
    },
    {
      "cell_type": "code",
      "metadata": {
        "colab": {
          "base_uri": "https://localhost:8080/",
          "height": 1000
        },
        "id": "Q-9btUJAOsWh",
        "outputId": "f167ebfd-175c-41a8-9c95-a3723c98b979"
      },
      "source": [
        "\n",
        "# files = glob.glob('/content/01-cwru-selected-data-3class-inner-outer-normal/*.csv')\n",
        "# data = np.empty((460*2*3,32,32))\n",
        "# data[:] = np.nan\n",
        "\n",
        "# count = 0\n",
        "# for file in files:\n",
        "#     temp = pd.read_csv(file, header = None)\n",
        "#     for j in range(460*2):\n",
        "#         segment = temp[0][(j*1024):((j+1)*1024)].values\n",
        "#         print(\"segment shape :\", segment.shape)\n",
        "#         coefs,_ = pywt.cwt(segment,np.arange(1,2049,32), 'morl')\n",
        "#         print(\"coef shape : \", coefs.shape)\n",
        "#         data[count,:,:] = tf.reshape(tf.image.resize(coefs.reshape((64,1024,1)),(32,32)),(32,32))\n",
        "#         if (count % 100) == 0:\n",
        "#             print(f\"{count} data points extracted\")\n",
        "#         count = count + 1\n",
        "# fault_types = ['Ball_007_Ball_014', 'IR_007_IR_014', 'OR_007_OR_014']\n",
        "# labels = np.repeat(fault_types, 460*2)\n",
        "# # Save wavelet data\n",
        "# np.savez('CWRU_48k_load_1_CNN_wavelet_morlet_data_3class', data = data, labels = labels)"
      ],
      "execution_count": 17,
      "outputs": [
        {
          "output_type": "stream",
          "text": [
            "segment shape : (1024,)\n",
            "coef shape :  (64, 1024)\n",
            "0 data points extracted\n",
            "segment shape : (1024,)\n",
            "coef shape :  (64, 1024)\n",
            "segment shape : (1024,)\n",
            "coef shape :  (64, 1024)\n",
            "segment shape : (1024,)\n",
            "coef shape :  (64, 1024)\n",
            "segment shape : (1024,)\n",
            "coef shape :  (64, 1024)\n",
            "segment shape : (1024,)\n",
            "coef shape :  (64, 1024)\n",
            "segment shape : (1024,)\n",
            "coef shape :  (64, 1024)\n",
            "segment shape : (1024,)\n",
            "coef shape :  (64, 1024)\n",
            "segment shape : (1024,)\n",
            "coef shape :  (64, 1024)\n",
            "segment shape : (1024,)\n",
            "coef shape :  (64, 1024)\n",
            "segment shape : (1024,)\n",
            "coef shape :  (64, 1024)\n",
            "segment shape : (1024,)\n",
            "coef shape :  (64, 1024)\n",
            "segment shape : (1024,)\n",
            "coef shape :  (64, 1024)\n",
            "segment shape : (1024,)\n",
            "coef shape :  (64, 1024)\n",
            "segment shape : (1024,)\n",
            "coef shape :  (64, 1024)\n",
            "segment shape : (1024,)\n",
            "coef shape :  (64, 1024)\n",
            "segment shape : (1024,)\n",
            "coef shape :  (64, 1024)\n",
            "segment shape : (1024,)\n",
            "coef shape :  (64, 1024)\n",
            "segment shape : (1024,)\n",
            "coef shape :  (64, 1024)\n",
            "segment shape : (1024,)\n",
            "coef shape :  (64, 1024)\n",
            "segment shape : (1024,)\n",
            "coef shape :  (64, 1024)\n",
            "segment shape : (1024,)\n",
            "coef shape :  (64, 1024)\n",
            "segment shape : (1024,)\n",
            "coef shape :  (64, 1024)\n",
            "segment shape : (1024,)\n",
            "coef shape :  (64, 1024)\n",
            "segment shape : (1024,)\n",
            "coef shape :  (64, 1024)\n",
            "segment shape : (1024,)\n",
            "coef shape :  (64, 1024)\n",
            "segment shape : (1024,)\n",
            "coef shape :  (64, 1024)\n",
            "segment shape : (1024,)\n",
            "coef shape :  (64, 1024)\n",
            "segment shape : (1024,)\n",
            "coef shape :  (64, 1024)\n",
            "segment shape : (1024,)\n",
            "coef shape :  (64, 1024)\n",
            "segment shape : (1024,)\n",
            "coef shape :  (64, 1024)\n",
            "segment shape : (1024,)\n",
            "coef shape :  (64, 1024)\n",
            "segment shape : (1024,)\n",
            "coef shape :  (64, 1024)\n",
            "segment shape : (1024,)\n",
            "coef shape :  (64, 1024)\n",
            "segment shape : (1024,)\n",
            "coef shape :  (64, 1024)\n",
            "segment shape : (1024,)\n",
            "coef shape :  (64, 1024)\n",
            "segment shape : (1024,)\n",
            "coef shape :  (64, 1024)\n",
            "segment shape : (1024,)\n",
            "coef shape :  (64, 1024)\n",
            "segment shape : (1024,)\n",
            "coef shape :  (64, 1024)\n",
            "segment shape : (1024,)\n",
            "coef shape :  (64, 1024)\n",
            "segment shape : (1024,)\n",
            "coef shape :  (64, 1024)\n",
            "segment shape : (1024,)\n",
            "coef shape :  (64, 1024)\n",
            "segment shape : (1024,)\n",
            "coef shape :  (64, 1024)\n",
            "segment shape : (1024,)\n",
            "coef shape :  (64, 1024)\n",
            "segment shape : (1024,)\n",
            "coef shape :  (64, 1024)\n",
            "segment shape : (1024,)\n",
            "coef shape :  (64, 1024)\n",
            "segment shape : (1024,)\n",
            "coef shape :  (64, 1024)\n",
            "segment shape : (1024,)\n"
          ],
          "name": "stdout"
        },
        {
          "output_type": "error",
          "ename": "KeyboardInterrupt",
          "evalue": "ignored",
          "traceback": [
            "\u001b[0;31m---------------------------------------------------------------------------\u001b[0m",
            "\u001b[0;31mKeyboardInterrupt\u001b[0m                         Traceback (most recent call last)",
            "\u001b[0;32m<ipython-input-17-f8ec1d386cca>\u001b[0m in \u001b[0;36m<module>\u001b[0;34m()\u001b[0m\n\u001b[1;32m     10\u001b[0m         \u001b[0msegment\u001b[0m \u001b[0;34m=\u001b[0m \u001b[0mtemp\u001b[0m\u001b[0;34m[\u001b[0m\u001b[0;36m0\u001b[0m\u001b[0;34m]\u001b[0m\u001b[0;34m[\u001b[0m\u001b[0;34m(\u001b[0m\u001b[0mj\u001b[0m\u001b[0;34m*\u001b[0m\u001b[0;36m1024\u001b[0m\u001b[0;34m)\u001b[0m\u001b[0;34m:\u001b[0m\u001b[0;34m(\u001b[0m\u001b[0;34m(\u001b[0m\u001b[0mj\u001b[0m\u001b[0;34m+\u001b[0m\u001b[0;36m1\u001b[0m\u001b[0;34m)\u001b[0m\u001b[0;34m*\u001b[0m\u001b[0;36m1024\u001b[0m\u001b[0;34m)\u001b[0m\u001b[0;34m]\u001b[0m\u001b[0;34m.\u001b[0m\u001b[0mvalues\u001b[0m\u001b[0;34m\u001b[0m\u001b[0;34m\u001b[0m\u001b[0m\n\u001b[1;32m     11\u001b[0m         \u001b[0mprint\u001b[0m\u001b[0;34m(\u001b[0m\u001b[0;34m\"segment shape :\"\u001b[0m\u001b[0;34m,\u001b[0m \u001b[0msegment\u001b[0m\u001b[0;34m.\u001b[0m\u001b[0mshape\u001b[0m\u001b[0;34m)\u001b[0m\u001b[0;34m\u001b[0m\u001b[0;34m\u001b[0m\u001b[0m\n\u001b[0;32m---> 12\u001b[0;31m         \u001b[0mcoefs\u001b[0m\u001b[0;34m,\u001b[0m\u001b[0m_\u001b[0m \u001b[0;34m=\u001b[0m \u001b[0mpywt\u001b[0m\u001b[0;34m.\u001b[0m\u001b[0mcwt\u001b[0m\u001b[0;34m(\u001b[0m\u001b[0msegment\u001b[0m\u001b[0;34m,\u001b[0m\u001b[0mnp\u001b[0m\u001b[0;34m.\u001b[0m\u001b[0marange\u001b[0m\u001b[0;34m(\u001b[0m\u001b[0;36m1\u001b[0m\u001b[0;34m,\u001b[0m\u001b[0;36m2049\u001b[0m\u001b[0;34m,\u001b[0m\u001b[0;36m32\u001b[0m\u001b[0;34m)\u001b[0m\u001b[0;34m,\u001b[0m \u001b[0;34m'morl'\u001b[0m\u001b[0;34m)\u001b[0m\u001b[0;34m\u001b[0m\u001b[0;34m\u001b[0m\u001b[0m\n\u001b[0m\u001b[1;32m     13\u001b[0m         \u001b[0mprint\u001b[0m\u001b[0;34m(\u001b[0m\u001b[0;34m\"coef shape : \"\u001b[0m\u001b[0;34m,\u001b[0m \u001b[0mcoefs\u001b[0m\u001b[0;34m.\u001b[0m\u001b[0mshape\u001b[0m\u001b[0;34m)\u001b[0m\u001b[0;34m\u001b[0m\u001b[0;34m\u001b[0m\u001b[0m\n\u001b[1;32m     14\u001b[0m         \u001b[0mdata\u001b[0m\u001b[0;34m[\u001b[0m\u001b[0mcount\u001b[0m\u001b[0;34m,\u001b[0m\u001b[0;34m:\u001b[0m\u001b[0;34m,\u001b[0m\u001b[0;34m:\u001b[0m\u001b[0;34m]\u001b[0m \u001b[0;34m=\u001b[0m \u001b[0mtf\u001b[0m\u001b[0;34m.\u001b[0m\u001b[0mreshape\u001b[0m\u001b[0;34m(\u001b[0m\u001b[0mtf\u001b[0m\u001b[0;34m.\u001b[0m\u001b[0mimage\u001b[0m\u001b[0;34m.\u001b[0m\u001b[0mresize\u001b[0m\u001b[0;34m(\u001b[0m\u001b[0mcoefs\u001b[0m\u001b[0;34m.\u001b[0m\u001b[0mreshape\u001b[0m\u001b[0;34m(\u001b[0m\u001b[0;34m(\u001b[0m\u001b[0;36m64\u001b[0m\u001b[0;34m,\u001b[0m\u001b[0;36m1024\u001b[0m\u001b[0;34m,\u001b[0m\u001b[0;36m1\u001b[0m\u001b[0;34m)\u001b[0m\u001b[0;34m)\u001b[0m\u001b[0;34m,\u001b[0m\u001b[0;34m(\u001b[0m\u001b[0;36m32\u001b[0m\u001b[0;34m,\u001b[0m\u001b[0;36m32\u001b[0m\u001b[0;34m)\u001b[0m\u001b[0;34m)\u001b[0m\u001b[0;34m,\u001b[0m\u001b[0;34m(\u001b[0m\u001b[0;36m32\u001b[0m\u001b[0;34m,\u001b[0m\u001b[0;36m32\u001b[0m\u001b[0;34m)\u001b[0m\u001b[0;34m)\u001b[0m\u001b[0;34m\u001b[0m\u001b[0;34m\u001b[0m\u001b[0m\n",
            "\u001b[0;32m/usr/local/lib/python3.7/dist-packages/pywt/_cwt.py\u001b[0m in \u001b[0;36mcwt\u001b[0;34m(data, scales, wavelet, sampling_period, method, axis)\u001b[0m\n\u001b[1;32m    156\u001b[0m         \u001b[0;32mif\u001b[0m \u001b[0mmethod\u001b[0m \u001b[0;34m==\u001b[0m \u001b[0;34m'conv'\u001b[0m\u001b[0;34m:\u001b[0m\u001b[0;34m\u001b[0m\u001b[0;34m\u001b[0m\u001b[0m\n\u001b[1;32m    157\u001b[0m             \u001b[0;32mif\u001b[0m \u001b[0mdata\u001b[0m\u001b[0;34m.\u001b[0m\u001b[0mndim\u001b[0m \u001b[0;34m==\u001b[0m \u001b[0;36m1\u001b[0m\u001b[0;34m:\u001b[0m\u001b[0;34m\u001b[0m\u001b[0;34m\u001b[0m\u001b[0m\n\u001b[0;32m--> 158\u001b[0;31m                 \u001b[0mconv\u001b[0m \u001b[0;34m=\u001b[0m \u001b[0mnp\u001b[0m\u001b[0;34m.\u001b[0m\u001b[0mconvolve\u001b[0m\u001b[0;34m(\u001b[0m\u001b[0mdata\u001b[0m\u001b[0;34m,\u001b[0m \u001b[0mint_psi_scale\u001b[0m\u001b[0;34m)\u001b[0m\u001b[0;34m\u001b[0m\u001b[0;34m\u001b[0m\u001b[0m\n\u001b[0m\u001b[1;32m    159\u001b[0m             \u001b[0;32melse\u001b[0m\u001b[0;34m:\u001b[0m\u001b[0;34m\u001b[0m\u001b[0;34m\u001b[0m\u001b[0m\n\u001b[1;32m    160\u001b[0m                 \u001b[0;31m# batch convolution via loop\u001b[0m\u001b[0;34m\u001b[0m\u001b[0;34m\u001b[0m\u001b[0;34m\u001b[0m\u001b[0m\n",
            "\u001b[0;32m<__array_function__ internals>\u001b[0m in \u001b[0;36mconvolve\u001b[0;34m(*args, **kwargs)\u001b[0m\n",
            "\u001b[0;32m/usr/local/lib/python3.7/dist-packages/numpy/core/numeric.py\u001b[0m in \u001b[0;36mconvolve\u001b[0;34m(a, v, mode)\u001b[0m\n\u001b[1;32m    815\u001b[0m         \u001b[0;32mraise\u001b[0m \u001b[0mValueError\u001b[0m\u001b[0;34m(\u001b[0m\u001b[0;34m'v cannot be empty'\u001b[0m\u001b[0;34m)\u001b[0m\u001b[0;34m\u001b[0m\u001b[0;34m\u001b[0m\u001b[0m\n\u001b[1;32m    816\u001b[0m     \u001b[0mmode\u001b[0m \u001b[0;34m=\u001b[0m \u001b[0m_mode_from_name\u001b[0m\u001b[0;34m(\u001b[0m\u001b[0mmode\u001b[0m\u001b[0;34m)\u001b[0m\u001b[0;34m\u001b[0m\u001b[0;34m\u001b[0m\u001b[0m\n\u001b[0;32m--> 817\u001b[0;31m     \u001b[0;32mreturn\u001b[0m \u001b[0mmultiarray\u001b[0m\u001b[0;34m.\u001b[0m\u001b[0mcorrelate\u001b[0m\u001b[0;34m(\u001b[0m\u001b[0ma\u001b[0m\u001b[0;34m,\u001b[0m \u001b[0mv\u001b[0m\u001b[0;34m[\u001b[0m\u001b[0;34m:\u001b[0m\u001b[0;34m:\u001b[0m\u001b[0;34m-\u001b[0m\u001b[0;36m1\u001b[0m\u001b[0;34m]\u001b[0m\u001b[0;34m,\u001b[0m \u001b[0mmode\u001b[0m\u001b[0;34m)\u001b[0m\u001b[0;34m\u001b[0m\u001b[0;34m\u001b[0m\u001b[0m\n\u001b[0m\u001b[1;32m    818\u001b[0m \u001b[0;34m\u001b[0m\u001b[0m\n\u001b[1;32m    819\u001b[0m \u001b[0;34m\u001b[0m\u001b[0m\n",
            "\u001b[0;31mKeyboardInterrupt\u001b[0m: "
          ]
        }
      ]
    },
    {
      "cell_type": "code",
      "metadata": {
        "id": "-q_61r58O4_o"
      },
      "source": [
        "import tensorflow as tf\n",
        "import numpy as np\n",
        "from tensorflow.keras.models import Sequential\n",
        "from tensorflow.keras import layers\n",
        "from tensorflow.keras.utils import to_categorical\n",
        "import matplotlib.pyplot as plt\n",
        "import pandas as pd\n",
        "import sklearn\n",
        "from sklearn.model_selection import train_test_split"
      ],
      "execution_count": 146,
      "outputs": []
    },
    {
      "cell_type": "code",
      "metadata": {
        "colab": {
          "base_uri": "https://localhost:8080/"
        },
        "id": "afY2wNzY06HZ",
        "outputId": "b73618c0-8e07-4532-88cb-fe0b5da6f8e2"
      },
      "source": [
        "print(\"Tensorflow version: \", tf.__version__)\n",
        "print(\"Numpy version: \", np.__version__)\n",
        "print(\"Pandas version: \", pd.__version__)\n",
        "print(\"Scikit-learn version: \", sklearn.__version__)"
      ],
      "execution_count": 147,
      "outputs": [
        {
          "output_type": "stream",
          "text": [
            "Tensorflow version:  2.5.0\n",
            "Numpy version:  1.19.5\n",
            "Pandas version:  1.1.5\n",
            "Scikit-learn version:  0.22.2.post1\n"
          ],
          "name": "stdout"
        }
      ]
    },
    {
      "cell_type": "code",
      "metadata": {
        "colab": {
          "base_uri": "https://localhost:8080/"
        },
        "id": "m2kOBDi80-Ge",
        "outputId": "6fd4cc51-7ca9-41b1-b431-e6847c5c4037"
      },
      "source": [
        "\n",
        "# Run the notebook after cloning the repo\n",
        "file = np.load('/content/CWRU_48k_load_1_CNN_raw_data_3class_v2.npz') # Give path to downloaded file in your system\n",
        "print(file.files)"
      ],
      "execution_count": 145,
      "outputs": [
        {
          "output_type": "stream",
          "text": [
            "['data', 'labels']\n"
          ],
          "name": "stdout"
        }
      ]
    },
    {
      "cell_type": "code",
      "metadata": {
        "colab": {
          "base_uri": "https://localhost:8080/"
        },
        "id": "wSXbVSw21NA5",
        "outputId": "60cacfc6-6f03-4cc6-9c74-1db82b2e8712"
      },
      "source": [
        "data = file[\"data\"]\n",
        "labels = file[\"labels\"]\n",
        "print(data.shape, labels.shape)"
      ],
      "execution_count": 148,
      "outputs": [
        {
          "output_type": "stream",
          "text": [
            "(2760, 32, 32) (2760,)\n"
          ],
          "name": "stdout"
        }
      ]
    },
    {
      "cell_type": "code",
      "metadata": {
        "colab": {
          "base_uri": "https://localhost:8080/",
          "height": 265
        },
        "id": "wF04pDvNQMXK",
        "outputId": "58a7ec9f-a986-4a9a-9470-a73d068bdb14"
      },
      "source": [
        "import matplotlib.pyplot as plt\n",
        "plt.plot(data[2000][:][:])\n",
        "plt.ylabel('some numbers')\n",
        "plt.show()"
      ],
      "execution_count": 149,
      "outputs": [
        {
          "output_type": "display_data",
          "data": {
            "image/png": "[encoded data removed]",
            "text/plain": [
              "<Figure size 432x288 with 1 Axes>"
            ]
          },
          "metadata": {
            "tags": [],
            "needs_background": "light"
          }
        }
      ]
    },
    {
      "cell_type": "code",
      "metadata": {
        "colab": {
          "base_uri": "https://localhost:8080/"
        },
        "id": "vx17BaRW1P4R",
        "outputId": "20beff59-b9ca-4f93-a9b9-0d2ae1a1907a"
      },
      "source": [
        "category_labels = np.unique(labels)\n",
        "print(category_labels)"
      ],
      "execution_count": 150,
      "outputs": [
        {
          "output_type": "stream",
          "text": [
            "['Ball_007_Ball_014' 'IR_007_IR_014' 'OR_007_OR_014']\n"
          ],
          "name": "stdout"
        }
      ]
    },
    {
      "cell_type": "code",
      "metadata": {
        "id": "UFFDIXyb1b5o"
      },
      "source": [
        "labels = pd.Categorical(labels, categories = category_labels).codes"
      ],
      "execution_count": 151,
      "outputs": []
    },
    {
      "cell_type": "code",
      "metadata": {
        "id": "0SG-oW2H1hXa"
      },
      "source": [
        "train_data, test_data, train_labels, test_labels = train_test_split(data, labels, test_size = 522, random_state = 829, \n",
        "                                                                    stratify = labels)"
      ],
      "execution_count": 152,
      "outputs": []
    },
    {
      "cell_type": "code",
      "metadata": {
        "colab": {
          "base_uri": "https://localhost:8080/"
        },
        "id": "yzX6EjYQ1oz8",
        "outputId": "ba8d68d6-a0dc-41f8-9926-de246a999743"
      },
      "source": [
        "# reshape data\n",
        "train_data = train_data.reshape(len(train_data),32,32,1)\n",
        "test_data = test_data.reshape(len(test_data),32,32,1)\n",
        "\n",
        "train_labels = to_categorical(train_labels)\n",
        "test_labels = to_categorical(test_labels)\n",
        "\n",
        "# Shuffle data\n",
        "index = np.random.permutation(len(train_labels))\n",
        "trian_data, trian_labels = train_data[index], train_labels[index]\n",
        "\n",
        "print(train_data.shape, train_labels.shape, test_data.shape, test_labels.shape )"
      ],
      "execution_count": 153,
      "outputs": [
        {
          "output_type": "stream",
          "text": [
            "(2238, 32, 32, 1) (2238, 3) (522, 32, 32, 1) (522, 3)\n"
          ],
          "name": "stdout"
        }
      ]
    },
    {
      "cell_type": "code",
      "metadata": {
        "colab": {
          "base_uri": "https://localhost:8080/"
        },
        "id": "WD6iAnWB1u2p",
        "outputId": "04df64e0-ad01-4dd1-9856-32b5b101cb23"
      },
      "source": [
        "demo_model = Sequential([\n",
        "    layers.Conv2D(32,9,activation= 'relu', input_shape = (32,32,1)),\n",
        "    layers.MaxPool2D(2),\n",
        "    layers.Conv2D(32,9,activation = 'relu'),\n",
        "    layers.MaxPool2D(2),\n",
        "    layers.Flatten(),\n",
        "    layers.Dense(64,activation = 'relu'),\n",
        "    layers.Dense(96, activation = 'relu'),\n",
        "    layers.Dense(3, activation = 'softmax')\n",
        "])\n",
        "demo_model.summary()"
      ],
      "execution_count": 154,
      "outputs": [
        {
          "output_type": "stream",
          "text": [
            "Model: \"sequential\"\n",
            "_________________________________________________________________\n",
            "Layer (type)                 Output Shape              Param #   \n",
            "=================================================================\n",
            "conv2d (Conv2D)              (None, 24, 24, 32)        2624      \n",
            "_________________________________________________________________\n",
            "max_pooling2d (MaxPooling2D) (None, 12, 12, 32)        0         \n",
            "_________________________________________________________________\n",
            "conv2d_1 (Conv2D)            (None, 4, 4, 32)          82976     \n",
            "_________________________________________________________________\n",
            "max_pooling2d_1 (MaxPooling2 (None, 2, 2, 32)          0         \n",
            "_________________________________________________________________\n",
            "flatten (Flatten)            (None, 128)               0         \n",
            "_________________________________________________________________\n",
            "dense (Dense)                (None, 64)                8256      \n",
            "_________________________________________________________________\n",
            "dense_1 (Dense)              (None, 96)                6240      \n",
            "_________________________________________________________________\n",
            "dense_2 (Dense)              (None, 3)                 291       \n",
            "=================================================================\n",
            "Total params: 100,387\n",
            "Trainable params: 100,387\n",
            "Non-trainable params: 0\n",
            "_________________________________________________________________\n"
          ],
          "name": "stdout"
        }
      ]
    },
    {
      "cell_type": "code",
      "metadata": {
        "id": "LX16i4_K19mG"
      },
      "source": [
        "def create_compiled_model():\n",
        "    model = Sequential([\n",
        "    layers.Conv2D(32,9,activation= 'relu', input_shape = (32,32,1)),\n",
        "    layers.MaxPool2D(2),\n",
        "    layers.Conv2D(32,9,activation = 'relu'),\n",
        "    layers.MaxPool2D(2),\n",
        "    layers.Flatten(),\n",
        "    layers.Dense(64,activation = 'relu'),\n",
        "    layers.Dense(96, activation = 'relu'),\n",
        "    layers.Dense(3, activation = 'softmax')\n",
        "    ])\n",
        "    model.compile(loss = 'categorical_crossentropy', optimizer = tf.keras.optimizers.Adam(learning_rate= 0.001), \n",
        "                  metrics= ['accuracy'])\n",
        "    return model"
      ],
      "execution_count": 155,
      "outputs": []
    },
    {
      "cell_type": "code",
      "metadata": {
        "colab": {
          "base_uri": "https://localhost:8080/"
        },
        "id": "pZfC9pmG2M2n",
        "outputId": "2ccdfbf5-d5e4-4dbc-99a8-c930bce13650"
      },
      "source": [
        "res = np.empty(10)\n",
        "res[:] = np.nan\n",
        "for i in range(10):\n",
        "    model = create_compiled_model()\n",
        "    history = model.fit(train_data, train_labels, epochs = 45, batch_size = 128, verbose = 0)    # Verbosity is set to zero\n",
        "    res[i] = model.evaluate(test_data, test_labels, batch_size = 128, verbose = 0)[1]            # Verbosity is set to zero\n",
        "    print('Loop iteration %d, Accuracy: %4.4f' % (i+1, res[i]))\n",
        "    if res[i]>=np.max(res[:(i+1)]):\n",
        "        best_model = model"
      ],
      "execution_count": 156,
      "outputs": [
        {
          "output_type": "stream",
          "text": [
            "Loop iteration 1, Accuracy: 0.5192\n",
            "Loop iteration 2, Accuracy: 0.5498\n",
            "Loop iteration 3, Accuracy: 0.5287\n",
            "Loop iteration 4, Accuracy: 0.5556\n",
            "Loop iteration 5, Accuracy: 0.5632\n",
            "Loop iteration 6, Accuracy: 0.5345\n",
            "Loop iteration 7, Accuracy: 0.5383\n",
            "Loop iteration 8, Accuracy: 0.5536\n",
            "Loop iteration 9, Accuracy: 0.5479\n",
            "Loop iteration 10, Accuracy: 0.5900\n"
          ],
          "name": "stdout"
        }
      ]
    },
    {
      "cell_type": "code",
      "metadata": {
        "colab": {
          "base_uri": "https://localhost:8080/"
        },
        "id": "VrFP4_dr2Rco",
        "outputId": "9c4d97c7-b7ef-45b6-d877-a59d51f2f6b6"
      },
      "source": [
        "\n",
        "print('Average accuracy:%4.4f'%(np.mean(res))) # After running the model 10 times\n",
        "print(\"Best accuracy: %4.4f\"%(np.max(res)))\n",
        "print(\"Worst accuracy: %4.4f\"%(np.min(res)))\n",
        "print('Standard deviation: %4.4f' % (np.std(res)))"
      ],
      "execution_count": 157,
      "outputs": [
        {
          "output_type": "stream",
          "text": [
            "Average accuracy:0.5481\n",
            "Best accuracy: 0.5900\n",
            "Worst accuracy: 0.5192\n",
            "Standard deviation: 0.0189\n"
          ],
          "name": "stdout"
        }
      ]
    },
    {
      "cell_type": "code",
      "metadata": {
        "id": "C_YpNhgX3sb8"
      },
      "source": [
        "tf.keras.models.save_model(best_model, \"CWRU_CNN_raw_time_domain_data.h5\")"
      ],
      "execution_count": 158,
      "outputs": []
    },
    {
      "cell_type": "code",
      "metadata": {
        "id": "zX6h4pUn4QM0"
      },
      "source": [
        "prediction = best_model.predict(test_data)\n",
        "prediction_labels = list([])\n",
        "for each_prediction in prediction:\n",
        "    prediction_labels.append(list(each_prediction).index(max(each_prediction)))"
      ],
      "execution_count": 159,
      "outputs": []
    },
    {
      "cell_type": "code",
      "metadata": {
        "id": "mdFX4G_h2Urn"
      },
      "source": [
        "from sklearn.metrics import confusion_matrix\n",
        "true_labels = np.argmax(test_labels, axis = 1)\n",
        "matrix = confusion_matrix(true_labels, prediction_labels)"
      ],
      "execution_count": 160,
      "outputs": []
    },
    {
      "cell_type": "code",
      "metadata": {
        "colab": {
          "base_uri": "https://localhost:8080/",
          "height": 346
        },
        "id": "ZMLeQXxS3cun",
        "outputId": "818e1f88-5d22-4099-a65c-8364b65b8fab"
      },
      "source": [
        "\n",
        "import seaborn as sns\n",
        "matrix = pd.DataFrame(matrix)\n",
        "plt.figure()\n",
        "sns.heatmap(matrix, annot= True, fmt = \"d\",\n",
        "           xticklabels = category_labels,\n",
        "           yticklabels = category_labels, cmap = \"Blues\", cbar = False)\n",
        "plt.xticks(rotation = 90)\n",
        "plt.show()"
      ],
      "execution_count": 161,
      "outputs": [
        {
          "output_type": "display_data",
          "data": {
            "image/png": "[encoded data removed]",
            "text/plain": [
              "<Figure size 432x288 with 1 Axes>"
            ]
          },
          "metadata": {
            "tags": [],
            "needs_background": "light"
          }
        }
      ]
    },
    {
      "cell_type": "code",
      "metadata": {
        "id": "9uhDto9z4T7o"
      },
      "source": [
        ""
      ],
      "execution_count": 94,
      "outputs": []
    }
  ]
}