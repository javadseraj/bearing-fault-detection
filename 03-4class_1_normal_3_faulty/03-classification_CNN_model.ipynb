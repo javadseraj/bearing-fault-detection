{
  "nbformat": 4,
  "nbformat_minor": 0,
  "metadata": {
    "accelerator": "TPU",
    "colab": {
      "name": "classification-CNN-model.ipynb",
      "provenance": [],
      "collapsed_sections": []
    },
    "kernelspec": {
      "display_name": "Python 3",
      "language": "python",
      "name": "python3"
    },
    "language_info": {
      "codemirror_mode": {
        "name": "ipython",
        "version": 3
      },
      "file_extension": ".py",
      "mimetype": "text/x-python",
      "name": "python",
      "nbconvert_exporter": "python",
      "pygments_lexer": "ipython3",
      "version": "3.8.5"
    }
  },
  "cells": [
    {
      "cell_type": "code",
      "metadata": {
        "colab": {
          "base_uri": "https://localhost:8080/"
        },
        "id": "75hA9ERiS-vu",
        "outputId": "f5b91cdb-6bea-432d-d104-804fa4a87550"
      },
      "source": [
        "!git clone https://github.com/javadseraj/bearing-fault-detection.git"
      ],
      "execution_count": 6,
      "outputs": [
        {
          "output_type": "stream",
          "text": [
            "Cloning into 'bearing-fault-detection'...\n",
            "remote: Enumerating objects: 18, done.\u001b[K\n",
            "remote: Counting objects: 100% (18/18), done.\u001b[K\n",
            "remote: Compressing objects: 100% (18/18), done.\u001b[K\n",
            "remote: Total 18 (delta 6), reused 3 (delta 0), pack-reused 0\u001b[K\n",
            "Unpacking objects: 100% (18/18), done.\n"
          ],
          "name": "stdout"
        }
      ]
    },
    {
      "cell_type": "code",
      "metadata": {
        "id": "ysWJPS9PyXUW"
      },
      "source": [
        ""
      ],
      "execution_count": 5,
      "outputs": []
    },
    {
      "cell_type": "code",
      "metadata": {
        "id": "RhTuHuL_TVbl"
      },
      "source": [
        "import tensorflow as tf\n",
        "import numpy as np\n",
        "from tensorflow.keras.models import Sequential\n",
        "from tensorflow.keras import layers\n",
        "from tensorflow.keras.utils import to_categorical\n",
        "import matplotlib.pyplot as plt\n",
        "import pandas as pd\n",
        "import sklearn\n",
        "from sklearn.model_selection import train_test_split"
      ],
      "execution_count": 7,
      "outputs": []
    },
    {
      "cell_type": "code",
      "metadata": {
        "id": "dLh8E7KITpSG"
      },
      "source": [
        ""
      ],
      "execution_count": null,
      "outputs": []
    },
    {
      "cell_type": "code",
      "metadata": {
        "id": "2bvvHpdRTzKw"
      },
      "source": [
        ""
      ],
      "execution_count": null,
      "outputs": []
    },
    {
      "cell_type": "code",
      "metadata": {
        "id": "5XSXxfeDUkHV"
      },
      "source": [
        ""
      ],
      "execution_count": null,
      "outputs": []
    },
    {
      "cell_type": "code",
      "metadata": {
        "colab": {
          "base_uri": "https://localhost:8080/"
        },
        "id": "6-P2hYC8TVYl",
        "outputId": "84273a53-c2bf-4231-a5d6-a3278a6ad1d3"
      },
      "source": [
        "print(\"Tensorflow version: \", tf.__version__)\n",
        "print(\"Numpy version: \", np.__version__)\n",
        "print(\"Pandas version: \", pd.__version__)\n",
        "print(\"Scikit-learn version: \", sklearn.__version__)"
      ],
      "execution_count": 3,
      "outputs": [
        {
          "output_type": "stream",
          "text": [
            "Tensorflow version:  2.5.0\n",
            "Numpy version:  1.19.5\n",
            "Pandas version:  1.1.5\n",
            "Scikit-learn version:  0.22.2.post1\n"
          ],
          "name": "stdout"
        }
      ]
    },
    {
      "cell_type": "code",
      "metadata": {
        "colab": {
          "base_uri": "https://localhost:8080/"
        },
        "id": "l2_2eML8TVVj",
        "outputId": "0916e60d-a523-46a2-a465-999328983f91"
      },
      "source": [
        " #Clone the repo and run current notebook.\n",
        "file = np.load(\"/content/bearing-fault-detection/CWRU_48k_load_1_CNN_wavelet_morlet_data_3class-v2.npz\")\n",
        "print(file.files)"
      ],
      "execution_count": 9,
      "outputs": [
        {
          "output_type": "stream",
          "text": [
            "['data', 'labels']\n"
          ],
          "name": "stdout"
        }
      ]
    },
    {
      "cell_type": "code",
      "metadata": {
        "colab": {
          "base_uri": "https://localhost:8080/"
        },
        "id": "NhJTccnBTVSZ",
        "outputId": "79d30665-5d82-4125-cee9-a58c9a44cb52"
      },
      "source": [
        "data = file['data']\n",
        "labels = file['labels']\n",
        "print(data.shape, labels.shape)"
      ],
      "execution_count": 10,
      "outputs": [
        {
          "output_type": "stream",
          "text": [
            "(2760, 32, 32) (2760,)\n"
          ],
          "name": "stdout"
        }
      ]
    },
    {
      "cell_type": "code",
      "metadata": {
        "colab": {
          "base_uri": "https://localhost:8080/"
        },
        "id": "BbGO84U2TVLo",
        "outputId": "a8b7993c-d497-4088-b3ca-8b8444751d93"
      },
      "source": [
        "print(data[1])\n",
        "print(labels)"
      ],
      "execution_count": 11,
      "outputs": [
        {
          "output_type": "stream",
          "text": [
            "[[ 0.01020172 -0.00573013  0.07074878 ... -0.24166405 -0.18484959\n",
            "  -0.00260397]\n",
            " [-0.04192289 -0.09738729  0.25067231 ...  0.47259021 -0.34711233\n",
            "   0.04998896]\n",
            " [-0.11706211 -0.0171799   0.07558984 ...  0.02658318  0.08676461\n",
            "   0.04282533]\n",
            " ...\n",
            " [ 0.64861107  0.19022679 -0.01515804 ... -0.79289484 -0.2437574\n",
            "   0.25301206]\n",
            " [ 0.46750858  0.15796137 -0.14604507 ...  0.55664819 -0.063833\n",
            "  -0.28631657]\n",
            " [ 0.129078    0.26094609  0.34046704 ...  0.09026027 -0.12110367\n",
            "  -0.06255563]]\n",
            "['Ball_007_Ball_014' 'Ball_007_Ball_014' 'Ball_007_Ball_014' ...\n",
            " 'OR_007_OR_014' 'OR_007_OR_014' 'OR_007_OR_014']\n"
          ],
          "name": "stdout"
        }
      ]
    },
    {
      "cell_type": "code",
      "metadata": {
        "colab": {
          "base_uri": "https://localhost:8080/"
        },
        "id": "DW6Uoef5TU5B",
        "outputId": "e69d2cb0-52ce-4eb6-aa33-d2dea373873e"
      },
      "source": [
        "category_labels = np.unique(labels)\n",
        "print(category_labels)"
      ],
      "execution_count": 12,
      "outputs": [
        {
          "output_type": "stream",
          "text": [
            "['Ball_007_Ball_014' 'IR_007_IR_014' 'OR_007_OR_014']\n"
          ],
          "name": "stdout"
        }
      ]
    },
    {
      "cell_type": "code",
      "metadata": {
        "id": "upHYK6m7VJ8G"
      },
      "source": [
        "labels = pd.Categorical(labels, categories = category_labels).codes"
      ],
      "execution_count": 13,
      "outputs": []
    },
    {
      "cell_type": "code",
      "metadata": {
        "id": "RqBowhVvVMyn"
      },
      "source": [
        "train_data, test_data, train_labels, test_labels = train_test_split(data, labels, test_size = 500, random_state = 829,\n",
        "                                                                   stratify = labels)"
      ],
      "execution_count": 14,
      "outputs": []
    },
    {
      "cell_type": "code",
      "metadata": {
        "colab": {
          "base_uri": "https://localhost:8080/"
        },
        "id": "QMcIM9IzVQXc",
        "outputId": "745abfb4-9201-4124-930d-c8411a2875b1"
      },
      "source": [
        "# reshape data as input should be three dimensional to a CNN\n",
        "\n",
        "train_data = train_data.reshape(len(train_data),32,32,1)\n",
        "test_data = test_data.reshape(len(test_data),32,32,1)\n",
        "\n",
        "train_labels = to_categorical(train_labels)\n",
        "test_labels = to_categorical(test_labels)\n",
        "\n",
        "# Shuffle data\n",
        "index = np.random.permutation(len(train_labels))\n",
        "trian_data, trian_labels = train_data[index], train_labels[index]\n",
        "\n",
        "print(train_data.shape, train_labels.shape, test_data.shape, test_labels.shape )"
      ],
      "execution_count": 15,
      "outputs": [
        {
          "output_type": "stream",
          "text": [
            "(2260, 32, 32, 1) (2260, 3) (500, 32, 32, 1) (500, 3)\n"
          ],
          "name": "stdout"
        }
      ]
    },
    {
      "cell_type": "code",
      "metadata": {
        "colab": {
          "base_uri": "https://localhost:8080/"
        },
        "id": "lbxRkZV3VTy6",
        "outputId": "f0001ad8-505b-4342-dd6f-0b04a39f03e7"
      },
      "source": [
        "demo_model = Sequential([\n",
        "    layers.Conv2D(32,3,activation= 'relu', input_shape = (32,32,1)),\n",
        "    #layers.MaxPool2D(2),\n",
        "    layers.Conv2D(64,5,activation = 'relu'),\n",
        "    #layers.MaxPool2D(2),\n",
        "    layers.Flatten(),\n",
        "    layers.Dense(128,activation = 'relu'),\n",
        "    layers.Dense(96, activation = 'relu'),\n",
        "    layers.Dense(3, activation = 'softmax')\n",
        "])\n",
        "demo_model.summary()"
      ],
      "execution_count": 21,
      "outputs": [
        {
          "output_type": "stream",
          "text": [
            "Model: \"sequential_5\"\n",
            "_________________________________________________________________\n",
            "Layer (type)                 Output Shape              Param #   \n",
            "=================================================================\n",
            "conv2d_9 (Conv2D)            (None, 30, 30, 32)        320       \n",
            "_________________________________________________________________\n",
            "conv2d_10 (Conv2D)           (None, 26, 26, 64)        51264     \n",
            "_________________________________________________________________\n",
            "flatten_5 (Flatten)          (None, 43264)             0         \n",
            "_________________________________________________________________\n",
            "dense_13 (Dense)             (None, 128)               5537920   \n",
            "_________________________________________________________________\n",
            "dense_14 (Dense)             (None, 96)                12384     \n",
            "_________________________________________________________________\n",
            "dense_15 (Dense)             (None, 3)                 291       \n",
            "=================================================================\n",
            "Total params: 5,602,179\n",
            "Trainable params: 5,602,179\n",
            "Non-trainable params: 0\n",
            "_________________________________________________________________\n"
          ],
          "name": "stdout"
        }
      ]
    },
    {
      "cell_type": "code",
      "metadata": {
        "id": "uD1R4llYVZLm"
      },
      "source": [
        "def create_compiled_model():\n",
        "    model = Sequential([\n",
        "    layers.Conv2D(32,3,activation= 'relu', input_shape = (32,32,1)),\n",
        "    layers.MaxPool2D(2),\n",
        "    layers.Conv2D(64,5,activation = 'relu'),\n",
        "    layers.MaxPool2D(2),\n",
        "    layers.Flatten(),\n",
        "    layers.Dense(128,activation = 'relu'),\n",
        "    layers.Dense(96, activation = 'relu'),\n",
        "    layers.Dense(3, activation = 'softmax')\n",
        "    ])\n",
        "    model.compile(loss = 'categorical_crossentropy', optimizer = tf.keras.optimizers.Adam(learning_rate= 0.001), \n",
        "                  metrics= ['accuracy'])\n",
        "    return model"
      ],
      "execution_count": 23,
      "outputs": []
    },
    {
      "cell_type": "code",
      "metadata": {
        "colab": {
          "base_uri": "https://localhost:8080/"
        },
        "id": "U36YGGvWVfno",
        "outputId": "2b357e40-2e67-49bf-9492-68d32a25d5c8"
      },
      "source": [
        "res = np.empty(10)\n",
        "res[:] = np.nan\n",
        "for i in range(10):\n",
        "    model = create_compiled_model()\n",
        "    history = model.fit(train_data, train_labels, epochs = 35, batch_size = 128, verbose = 0)    # Verbosity is set to zero\n",
        "    res[i] = model.evaluate(test_data, test_labels, batch_size = 128, verbose = 0)[1]            # Verbosity is set to zero\n",
        "    print('Loop iteration %d, Accuracy: %4.4f' % (i+1, res[i]))\n",
        "    if res[i]>=np.max(res[:(i+1)]):\n",
        "        best_model = model"
      ],
      "execution_count": 24,
      "outputs": [
        {
          "output_type": "stream",
          "text": [
            "Loop iteration 1, Accuracy: 0.9960\n",
            "Loop iteration 2, Accuracy: 0.9940\n",
            "Loop iteration 3, Accuracy: 0.9960\n",
            "Loop iteration 4, Accuracy: 0.9960\n",
            "Loop iteration 5, Accuracy: 0.9960\n",
            "Loop iteration 6, Accuracy: 0.9940\n",
            "Loop iteration 7, Accuracy: 0.9960\n",
            "Loop iteration 8, Accuracy: 0.9960\n",
            "Loop iteration 9, Accuracy: 0.9960\n",
            "Loop iteration 10, Accuracy: 0.9920\n"
          ],
          "name": "stdout"
        }
      ]
    },
    {
      "cell_type": "code",
      "metadata": {
        "colab": {
          "base_uri": "https://localhost:8080/"
        },
        "id": "rN9cMxPgVjp_",
        "outputId": "cf37cc76-cf07-45d6-9e77-14f8a08c1cd0"
      },
      "source": [
        " print('Average accuracy:%4.4f'%(np.mean(res))) # After running the model 10 times\n",
        "print(\"Best accuracy: %4.4f\"%(np.max(res)))\n",
        "print(\"Worst accuracy: %4.4f\"%(np.min(res)))\n",
        "print('Standard deviation: %4.4f' % (np.std(res)))"
      ],
      "execution_count": 25,
      "outputs": [
        {
          "output_type": "stream",
          "text": [
            "Average accuracy:0.9952\n",
            "Best accuracy: 0.9960\n",
            "Worst accuracy: 0.9920\n",
            "Standard deviation: 0.0013\n"
          ],
          "name": "stdout"
        }
      ]
    },
    {
      "cell_type": "code",
      "metadata": {
        "id": "CzNPZR_vVtqQ"
      },
      "source": [
        "tf.keras.models.save_model(best_model, \"CWRU_CNN_continuous_wavelet_transform.h5\")"
      ],
      "execution_count": 26,
      "outputs": []
    },
    {
      "cell_type": "code",
      "metadata": {
        "id": "z4V5TfobV2UX"
      },
      "source": [
        "prediction = best_model.predict(test_data)\n",
        "prediction_labels = list([])\n",
        "for each_prediction in prediction:\n",
        "    prediction_labels.append(list(each_prediction).index(max(each_prediction)))"
      ],
      "execution_count": 27,
      "outputs": []
    },
    {
      "cell_type": "code",
      "metadata": {
        "id": "Q0l8gX1oV6Xu"
      },
      "source": [
        "from sklearn.metrics import confusion_matrix\n",
        "true_labels = np.argmax(test_labels, axis = 1)\n",
        "matrix = confusion_matrix(true_labels, prediction_labels)"
      ],
      "execution_count": 28,
      "outputs": []
    },
    {
      "cell_type": "code",
      "metadata": {
        "colab": {
          "base_uri": "https://localhost:8080/",
          "height": 346
        },
        "id": "Nz0ICoRYWE0j",
        "outputId": "bd343653-ee6f-4609-fc40-691abfcf3dc6"
      },
      "source": [
        "import seaborn as sns\n",
        "matrix = pd.DataFrame(matrix)\n",
        "plt.figure()\n",
        "sns.heatmap(matrix, annot= True, fmt = \"d\",\n",
        "           xticklabels = category_labels,\n",
        "           yticklabels = category_labels, cmap = \"Blues\", cbar = False)\n",
        "plt.xticks(rotation = 90)\n",
        "plt.show()"
      ],
      "execution_count": 29,
      "outputs": [
        {
          "output_type": "display_data",
          "data": {
            "image/png": "[encoded data removed]",
            "text/plain": [
              "<Figure size 432x288 with 1 Axes>"
            ]
          },
          "metadata": {
            "tags": [],
            "needs_background": "light"
          }
        }
      ]
    },
    {
      "cell_type": "code",
      "metadata": {
        "id": "BYU4WMZ-bHhf"
      },
      "source": [
        ""
      ],
      "execution_count": null,
      "outputs": []
    }
  ]
}