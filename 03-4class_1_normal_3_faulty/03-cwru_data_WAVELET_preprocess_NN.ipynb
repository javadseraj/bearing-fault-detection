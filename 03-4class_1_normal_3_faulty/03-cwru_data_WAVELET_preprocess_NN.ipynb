{
 "cells": [
  {
   "cell_type": "code",
   "execution_count": 1,
   "metadata": {
    "colab": {
     "base_uri": "https://localhost:8080/"
    },
    "id": "jLsYG_kJRtKh",
    "outputId": "af31eda2-19e7-4374-9d01-00805368779b"
   },
   "outputs": [
    {
     "name": "stdout",
     "output_type": "stream",
     "text": [
      "Cloning into 'bearing-fault-detection'...\n",
      "remote: Enumerating objects: 9, done.\u001b[K\n",
      "remote: Counting objects: 100% (9/9), done.\u001b[K\n",
      "remote: Compressing objects: 100% (9/9), done.\u001b[K\n",
      "remote: Total 9 (delta 3), reused 3 (delta 0), pack-reused 0\u001b[K\n",
      "Unpacking objects: 100% (9/9), done.\n"
     ]
    }
   ],
   "source": [
    "!git clone https://github.com/javadseraj/bearing-fault-detection.git"
   ]
  },
  {
   "cell_type": "code",
   "execution_count": 2,
   "metadata": {
    "colab": {
     "base_uri": "https://localhost:8080/"
    },
    "id": "Cdph3dW9SFLw",
    "outputId": "fb3008f9-a5f6-406e-d389-f7e19b9d834c"
   },
   "outputs": [
    {
     "name": "stdout",
     "output_type": "stream",
     "text": [
      "Archive:  /content/bearing-fault-detection/01-cwru-selected-data-3class-inner-outer-normal.zip\n",
      "  inflating: 01-cwru-selected-data-3class-inner-outer-normal/B007_B014_1_123.csv  \n",
      "  inflating: 01-cwru-selected-data-3class-inner-outer-normal/IR007_IR014_1_110.csv  \n",
      "  inflating: 01-cwru-selected-data-3class-inner-outer-normal/OR007_OR014_6_1_136.csv  \n"
     ]
    }
   ],
   "source": [
    "! unzip /content/bearing-fault-detection/01-cwru-selected-data-3class-inner-outer-normal.zip"
   ]
  },
  {
   "cell_type": "code",
   "execution_count": 6,
   "metadata": {
    "id": "J5lvdRe6OTck"
   },
   "outputs": [],
   "source": [
    "import tensorflow as tf\n",
    "import numpy as np\n",
    "import pandas as pd\n",
    "import pywt\n",
    "import glob"
   ]
  },
  {
   "cell_type": "code",
   "execution_count": 7,
   "metadata": {
    "colab": {
     "base_uri": "https://localhost:8080/"
    },
    "id": "DtnuL3CAOjUA",
    "outputId": "d7c5ea3b-f5ec-4cb0-89cc-b1aa2b5382cb"
   },
   "outputs": [
    {
     "data": {
      "text/plain": [
       "['/content/01-cwru-selected-data-3class-inner-outer-normal/IR007_IR014_1_110.csv',\n",
       " '/content/01-cwru-selected-data-3class-inner-outer-normal/OR007_OR014_6_1_136.csv',\n",
       " '/content/01-cwru-selected-data-3class-inner-outer-normal/B007_B014_1_123.csv']"
      ]
     },
     "execution_count": 7,
     "metadata": {
      "tags": []
     },
     "output_type": "execute_result"
    }
   ],
   "source": [
    "files = glob.glob('/content/01-cwru-selected-data-3class-inner-outer-normal/*.csv')\n",
    "files"
   ]
  },
  {
   "cell_type": "code",
   "execution_count": 8,
   "metadata": {
    "colab": {
     "base_uri": "https://localhost:8080/"
    },
    "id": "Q-9btUJAOsWh",
    "outputId": "58a3e951-15cd-4757-eaee-e3072e2fd905"
   },
   "outputs": [
    {
     "name": "stdout",
     "output_type": "stream",
     "text": [
      "0 data points extracted\n",
      "100 data points extracted\n",
      "200 data points extracted\n",
      "300 data points extracted\n",
      "400 data points extracted\n",
      "500 data points extracted\n",
      "600 data points extracted\n",
      "700 data points extracted\n",
      "800 data points extracted\n",
      "900 data points extracted\n",
      "1000 data points extracted\n",
      "1100 data points extracted\n",
      "1200 data points extracted\n",
      "1300 data points extracted\n",
      "1400 data points extracted\n",
      "1500 data points extracted\n",
      "1600 data points extracted\n",
      "1700 data points extracted\n",
      "1800 data points extracted\n",
      "1900 data points extracted\n",
      "2000 data points extracted\n",
      "2100 data points extracted\n",
      "2200 data points extracted\n",
      "2300 data points extracted\n",
      "2400 data points extracted\n",
      "2500 data points extracted\n",
      "2600 data points extracted\n",
      "2700 data points extracted\n"
     ]
    }
   ],
   "source": [
    "\n",
    "files = glob.glob('/content/01-cwru-selected-data-3class-inner-outer-normal/*.csv')\n",
    "data = np.empty((460*2*3,32,32))\n",
    "data[:] = np.nan\n",
    "\n",
    "count = 0\n",
    "for file in files:\n",
    "    temp = pd.read_csv(file, header = None)\n",
    "    for j in range(460*2):\n",
    "        segment = temp[0][(j*1024):((j+1)*1024)].values\n",
    "        coefs,_ = pywt.cwt(segment,np.arange(1,2049,32), 'morl')\n",
    "        data[count,:,:] = tf.reshape(tf.image.resize(coefs.reshape((64,1024,1)),(32,32)),(32,32))\n",
    "        if (count % 100) == 0:\n",
    "            print(f\"{count} data points extracted\")\n",
    "        count = count + 1\n",
    "fault_types = ['Ball_007_Ball_014', 'IR_007_IR_014', 'OR_007_OR_014']\n",
    "labels = np.repeat(fault_types, 460*2)\n",
    "# Save wavelet data\n",
    "np.savez('CWRU_48k_load_1_CNN_wavelet_morlet_data_3class', data = data, labels = labels)"
   ]
  },
  {
   "cell_type": "code",
   "execution_count": null,
   "metadata": {
    "id": "-q_61r58O4_o"
   },
   "outputs": [],
   "source": []
  }
 ],
 "metadata": {
  "accelerator": "GPU",
  "colab": {
   "name": "01-cwru data WAVELET preprocess NN.ipynb",
   "provenance": []
  },
  "kernelspec": {
   "display_name": "Python 3",
   "language": "python",
   "name": "python3"
  },
  "language_info": {
   "codemirror_mode": {
    "name": "ipython",
    "version": 3
   },
   "file_extension": ".py",
   "mimetype": "text/x-python",
   "name": "python",
   "nbconvert_exporter": "python",
   "pygments_lexer": "ipython3",
   "version": "3.8.5"
  }
 },
 "nbformat": 4,
 "nbformat_minor": 1
}
